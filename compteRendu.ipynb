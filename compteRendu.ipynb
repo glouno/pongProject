{
 "cells": [
  {
   "cell_type": "code",
   "execution_count": null,
   "metadata": {},
   "outputs": [],
   "source": [
    "#Import requirements:\n",
    "import opencv\n"
   ]
  },
  {
   "cell_type": "markdown",
   "metadata": {},
   "source": [
    "# The Pong Project\n",
    "\n",
    "### Répartition des tâches:\n",
    "Nous avons décidé de séparer le projet en 2 parties: \n",
    "1. le jeu (avec comme controles les \"UP ARROW\" \"DOWN ARROW\" normaux, fait par Christian et Aissata)\n",
    "2. les contrôles fait par une main, grâce à OpenCV : fait par Paul & Raphaela\n",
    "Puis nous allons intégrer ces 2 parties ensemble\n",
    "\n",
    "De plus, afin d'apprendre à utiliser git (un des outils les plus importants dans notre carrière de développeurs) nous allons tout faire sur GitHub en essayant d'adopter les bonnes pratiques, comme créer une branche pour chaque feature avant de merge avec main.\n"
   ]
  }
 ],
 "metadata": {
  "language_info": {
   "name": "python"
  },
  "orig_nbformat": 4
 },
 "nbformat": 4,
 "nbformat_minor": 2
}
