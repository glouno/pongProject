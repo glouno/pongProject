{
 "cells": [
  {
   "cell_type": "code",
   "execution_count": 3,
   "metadata": {},
   "outputs": [],
   "source": [
    "#Import requirements:\n",
    "import cv2 as cv\n"
   ]
  },
  {
   "cell_type": "markdown",
   "metadata": {},
   "source": [
    "# The Pong Project\n",
    "Christian Kuate, Aissata Sylla, Raphaela NKOUDOU, Paul Béglin\n",
    "\n",
    "### Présentation synthétique du projet\n",
    "\n",
    "\n",
    "### Répartition des tâches\n",
    "Nous avons décidé de séparer le projet en 2 parties: \n",
    "1. le jeu (avec comme controles les \"UP ARROW\" \"DOWN ARROW\" normaux, (que Christian et Aissata auraient du faire)\n",
    "2. les contrôles fait par une main, grâce à OpenCV : fait par Paul \n",
    "3. le Menu fait par Raphaela\n",
    "\n",
    "Puis nous allons intégrer ces 3 parties ensemble\n",
    "\n",
    "### Initialisation\n",
    "#### Git & GitHub\n",
    "Afin d'apprendre à utiliser git (un des outils les plus importants dans notre carrière de développeurs) nous allons tout faire sur GitHub en essayant d'adopter les bonnes pratiques, comme créer une branche pour chaque feature avant de merge avec main.\n",
    "\n",
    "#### Environnement Virtuel Python\n",
    "De plus, à cause de problèmes d'environement qui empêchait de faire fonctionner OpenCV, nous avons créé des environnements virtuels afin de séparer la version Python qu'utilise le système et la version dont nous avons besoin avec toutes nos dépendences. On a notamment utilisé Conda.\n",
    "\n",
    "...\n",
    "\n",
    "\n",
    "### Tests fonctionnels\n",
    "\n",
    "OpenCV & cvZone pour les contrôles du jeu\n",
    "J'ai décidé d'utiliser une bibliothèque additionelle qui est basée sur OpenCV, notamment car elle traite le HandTracking de manière très efficace ce qui permet au code d'être plus simple et lisible, mais aussi de s'éxecuter plus rapidement. "
   ]
  },
  {
   "cell_type": "code",
   "execution_count": null,
   "metadata": {},
   "outputs": [],
   "source": [
    "#Premier tests caméra avec opencv et cvzone Hand Tracking\n",
    "#Attention, dans Jupyternotebooks on ne peut pas sortir de GUI, donc afin d'avoir quelque chose qui s'affiche inline\n",
    "#j'ai changé le code pour utiliser matplotlibe et avoir chaque image qui s'affiche inline... \n",
    "#MAIS il faut arrêter le processus rapidement, sinon vous allez avoir pleins d'images \n",
    "\n",
    "import cv2 as cv\n",
    "from cvzone.HandTrackingModule import HandDetector\n",
    "from matplotlib import pyplot as plt\n",
    "\n",
    "liveVideo = cv.VideoCapture(0)\n",
    "handDetector = HandDetector(detectionCon = 0.8)\n",
    "\n",
    "while True:\n",
    "    ret, frame = liveVideo.read()\n",
    "\n",
    "    #Show the image with matplotlib\n",
    "    plt.imshow(frame)\n",
    "    plt.show()\n",
    "    #cv.imshow('frame', frame)\n",
    "\n",
    "    if cv.waitKey(1) & 0xFF == ord('q'):    #waitKey(1) & 0xFF is a bitwise operation to only keep the last 8 bits and compare it to ord('q')\n",
    "        break\n",
    "\n",
    "# After the loop release the cap object\n",
    "liveVideo.release()\n",
    "# Destroy all the windows\n",
    "cv.destroyAllWindows()"
   ]
  },
  {
   "cell_type": "markdown",
   "metadata": {},
   "source": [
    "On utilise la point de l'index comme réference pour le mouvement (le point numéro 8 de la main sur OpenCV)\n",
    "c'est pourquoi on appelle: \n",
    "\n",
    "```yCoordinate = lmList1[8][1:2]```\n",
    "\n",
    "Pour avoir ses coordonnées"
   ]
  },
  {
   "cell_type": "code",
   "execution_count": null,
   "metadata": {},
   "outputs": [],
   "source": [
    "while True:\n",
    "    ret, frame = liveVideo.read()\n",
    "    frame = cv.flip(frame, 1)\n",
    "    hands, frame = handDetector.findHands(frame, flipType=False)\n",
    "#for each hand we'Ll have info Like Hand--›dict{lmList,boundinqboundary, img)\n",
    "    if hands:\n",
    "        hand1=hands[0]                          #gives us first hand\n",
    "        lmList1=hand1[\"lmList\"]                 #List of 21 Landmarks\n",
    "        bbox1=hand1[\"bbox\"]                     #x,y,w,h of bounding box\n",
    "        centerPoint1=hand1[ \"center\" ]          #center of the hand cx, cy\n",
    "        handType1=hand1[\"type\"]                 #Left or right\n",
    "        finger1=handDetector.fingersUp(hand1)\n",
    "        \n",
    "        #needs something to find the distance / x,y positions \n",
    "        #length, info, frame=handDetector.findDistance(lmList1[8], lmList1[12])\n",
    "        yCoordinate = lmList1[8][1:2]       \n",
    "        #yCoordinate = tuple(yCoordinate) #careful change data type to tuple with tuple() if doing a circle bounding box\n",
    "        #cv2.circle() ...\n",
    "        print(yCoordinate)"
   ]
  },
  {
   "cell_type": "markdown",
   "metadata": {},
   "source": [
    "## Menu & Jeu\n",
    "\n",
    "Nous avons commencé en séparant les fonctions et classes dans différents fichiers, mais par manque d'expertise, nous avons finalement tout regroupé dans le même fichier main, avec comme seule séparation le fichier menu.\n",
    "\n",
    "Les autres fichiers sont laissés là si vous voulez voir notre cheminement.\n",
    "\n",
    "Il y a plein de code inutile, même à l'intérieur des fichiers menu et main. Notamment car nous avons été plusieurs à programmer et que nous n'avons pas assez bien combiné ensemble le travail.\n",
    "\n",
    "En intégrant le jeu dans le menu après avoir cliqué sur play, la fenêtre ne se resize / scale pas correctement.\n"
   ]
  },
  {
   "cell_type": "markdown",
   "metadata": {},
   "source": [
    "### Bilan collectif et individuel\n",
    "\n",
    "\n",
    "\n",
    "\n",
    "\n",
    "### Bibliographie (nos sources)\n",
    "- https://code.visualstudio.com/docs/sourcecontrol/overview\n",
    "- https://training.github.com/downloads/github-git-cheat-sheet.pdf\n",
    "- https://stackoverflow.com/questions/7974849/how-can-i-make-one-python-file-run-another\n",
    "- https://docplayer.fr/174641349-Introduction-a-pygame.html\n",
    "- https://www.youtube.com/watch?v=lA5MHT1PbIA \n",
    "- https://stackoverflow.com/questions/35372700/whats-0xff-for-in-cv2-waitkey1 \n",
    "\n"
   ]
  }
 ],
 "metadata": {
  "kernelspec": {
   "display_name": "Python 3.10.8 64-bit",
   "language": "python",
   "name": "python3"
  },
  "language_info": {
   "codemirror_mode": {
    "name": "ipython",
    "version": 3
   },
   "file_extension": ".py",
   "mimetype": "text/x-python",
   "name": "python",
   "nbconvert_exporter": "python",
   "pygments_lexer": "ipython3",
   "version": "3.10.8"
  },
  "orig_nbformat": 4,
  "vscode": {
   "interpreter": {
    "hash": "aee8b7b246df8f9039afb4144a1f6fd8d2ca17a180786b69acc140d282b71a49"
   }
  }
 },
 "nbformat": 4,
 "nbformat_minor": 2
}
