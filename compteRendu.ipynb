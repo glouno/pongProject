{
 "cells": [
  {
   "cell_type": "code",
   "execution_count": 3,
   "metadata": {},
   "outputs": [],
   "source": [
    "#Import requirements:\n",
    "import cv2 as cv\n"
   ]
  },
  {
   "cell_type": "markdown",
   "metadata": {},
   "source": [
    "# The Pong Project\n",
    "Christian Kuate, Aissata Sylla, Raphaela NKOUDOU, Paul Béglin\n",
    "\n",
    "### Présentation synthétique du projet\n",
    "\n",
    "\n",
    "### Répartition des tâches\n",
    "Nous avons décidé de séparer le projet en 2 parties: \n",
    "1. le jeu (avec comme controles les \"UP ARROW\" \"DOWN ARROW\" normaux, (que Christian et Aissata auraient du faire)\n",
    "2. les contrôles fait par une main, grâce à OpenCV : fait par Paul \n",
    "3. le Menu fait par Raphaela\n",
    "\n",
    "Puis nous allons intégrer ces 3 parties ensemble\n",
    "\n",
    "### Initialisation\n",
    "#### Git & GitHub\n",
    "Afin d'apprendre à utiliser git (un des outils les plus importants dans notre carrière de développeurs) nous allons tout faire sur GitHub en essayant d'adopter les bonnes pratiques, comme créer une branche pour chaque feature avant de merge avec main.\n",
    "\n",
    "#### Environnement Virtuel Python\n",
    "De plus, à cause de problèmes d'environement qui empêchait de faire fonctionner OpenCV, nous avons créé des environnements virtuels afin de séparer la version Python qu'utilise le système et la version dont nous avons besoin avec toutes nos dépendences. On a notamment utilisé Conda.\n",
    "\n",
    "...\n",
    "\n"
   ]
  },
  {
   "cell_type": "code",
   "execution_count": null,
   "metadata": {},
   "outputs": [],
   "source": [
    "#Premier tests caméra avec opencv et cvzone Hand Tracking\n",
    "#Attention, dans Jupyternotebooks on ne peut pas sortir de GUI, donc afin d'avoir quelque chose qui s'affiche inline\n",
    "#j'ai changé le code pour utiliser matplotlibe et avoir chaque image qui s'affiche inline... \n",
    "#MAIS il faut arrêter le processus rapidement, sinon vous allez avoir pleins d'images \n",
    "\n",
    "import cv2 as cv\n",
    "from cvzone.HandTrackingModule import HandDetector\n",
    "from matplotlib import pyplot as plt\n",
    "\n",
    "liveVideo = cv.VideoCapture(0)\n",
    "handDetector = HandDetector(detectionCon = 0.8)\n",
    "\n",
    "while True:\n",
    "    ret, frame = liveVideo.read()\n",
    "\n",
    "    #Show the image with matplotlib\n",
    "    plt.imshow(frame)\n",
    "    plt.show()\n",
    "    #cv.imshow('frame', frame)\n",
    "\n",
    "    if cv.waitKey(1) & 0xFF == ord('q'):    #waitKey(1) & 0xFF is a bitwise operation to only keep the last 8 bits and compare it to ord('q')\n",
    "        break\n",
    "\n",
    "# After the loop release the cap object\n",
    "liveVideo.release()\n",
    "# Destroy all the windows\n",
    "cv.destroyAllWindows()"
   ]
  },
  {
   "cell_type": "markdown",
   "metadata": {},
   "source": [
    "On utilise la point de l'index comme réference pour le mouvement (le point numéro 8 de la main sur OpenCV)\n",
    "c'est pourquoi on appelle: \n",
    "\n",
    "```yCoordinate = lmList1[8][1:2]```\n",
    "\n",
    "Pour avoir ses coordonnées"
   ]
  },
  {
   "cell_type": "code",
   "execution_count": null,
   "metadata": {},
   "outputs": [],
   "source": [
    "while True:\n",
    "    ret, frame = liveVideo.read()\n",
    "    frame = cv.flip(frame, 1)\n",
    "    hands, frame = handDetector.findHands(frame, flipType=False)\n",
    "#for each hand we'Ll have info Like Hand--›dict{lmList,boundinqboundary, img)\n",
    "    if hands:\n",
    "        hand1=hands[0]                          #gives us first hand\n",
    "        lmList1=hand1[\"lmList\"]                 #List of 21 Landmarks\n",
    "        bbox1=hand1[\"bbox\"]                     #x,y,w,h of bounding box\n",
    "        centerPoint1=hand1[ \"center\" ]          #center of the hand cx, cy\n",
    "        handType1=hand1[\"type\"]                 #Left or right\n",
    "        finger1=handDetector.fingersUp(hand1)\n",
    "        \n",
    "        #needs something to find the distance / x,y positions \n",
    "        #length, info, frame=handDetector.findDistance(lmList1[8], lmList1[12])\n",
    "        yCoordinate = lmList1[8][1:2]       \n",
    "        #yCoordinate = tuple(yCoordinate) #careful change data type to tuple with tuple() if doing a circle bounding box\n",
    "        #cv2.circle() ...\n",
    "        print(yCoordinate)"
   ]
  },
  {
   "cell_type": "markdown",
   "metadata": {},
   "source": [
    "LA CRÉATION DE LA PAGE D'ACCEUIL\n",
    "Pour réaliser la page d'accueil nous avons utilisé la bibliothéque pygame en utilisant le concept de multi-fenetres. A cet effet nous avons donc créer cinq fonctions principales qui constituent les quatres boutons de l'interface et la fonction main qui va se charger d'afficher ces boutons à l'écran.\n",
    "le principe est simple, le clic d'un bouton correspond à l'appel de la fonction\n",
    "Egalement, pour generer ces boutons à l'ecran, nous avons opté pour la création d'une classe BUTTON. Ce qui rend la géneration des boutons facile et non redondante."
   ]
  },
  {
   "cell_type": "markdown",
   "metadata": {},
   "source": [
    "Importation de pygame et Configuration de la fenetre du menu d'accueil\n"
   ]
  },
  {
   "cell_type": "code",
   "execution_count": null,
   "metadata": {},
   "outputs": [],
   "source": [
    "import pygame,sys\n",
    "LARGEUR = 1280\n",
    "HAUTEUR = 900\n",
    "\n",
    "pygame.init()\n",
    "\n",
    "fenetre = pygame.display.set_mode((LARGEUR, HAUTEUR))\n",
    "pygame.display.set_caption(\"Menu\")\n",
    "icone = pygame.image.load('image jeu/ICONE.png')\n",
    "pygame.display.set_icon(icone)\n",
    "\n",
    "background = pygame.image.load('image jeu/BACK2.jpg')"
   ]
  },
  {
   "cell_type": "markdown",
   "metadata": {},
   "source": [
    "Definition de la police du menu\n",
    "cette fonction va retourner la police principale du menu qui sera utilisé au niveau des boutons"
   ]
  },
  {
   "cell_type": "code",
   "execution_count": null,
   "metadata": {},
   "outputs": [],
   "source": [
    "def get_font(size): \n",
    "    return pygame.font.Font('image jeu/font.ttf', size)"
   ]
  },
  {
   "cell_type": "markdown",
   "metadata": {},
   "source": [
    "La classe BUTTON:\n",
    "    le def _init_\n",
    "    Elle posséde un constructeur qui va initialiser les différents attributs des boutons(image, position du bouton, text, la police, la couleur, et la couleur secondaire) et trois méthodes"
   ]
  },
  {
   "cell_type": "code",
   "execution_count": null,
   "metadata": {},
   "outputs": [],
   "source": [
    "class Button():\n",
    "\tdef __init__(self, image, pos, text_input, font, base_color, hovering_color):\n",
    "\t\tself.image = image\n",
    "\t\tself.x_pos = pos[0]\n",
    "\t\tself.y_pos = pos[1]\n",
    "\t\tself.font = font\n",
    "\t\tself.base_color, self.hovering_color = base_color, hovering_color\n",
    "\t\tself.text_input = text_input\n",
    "\t\tself.text = self.font.render(self.text_input, True, self.base_color)\n",
    "\t\tif self.image is None:\n",
    "\t\t\tself.image = self.text\n",
    "\t\tself.rect = self.image.get_rect(center=(self.x_pos, self.y_pos))\n",
    "\t\tself.text_rect = self.text.get_rect(center=(self.x_pos, self.y_pos))"
   ]
  },
  {
   "cell_type": "markdown",
   "metadata": {},
   "source": [
    "    la methode update\n",
    "    elle permet d'afficher le bouton à l'ecran d'accueil une fois qu'elle est appelée"
   ]
  },
  {
   "cell_type": "code",
   "execution_count": null,
   "metadata": {},
   "outputs": [],
   "source": [
    "def update(self, screen):\n",
    "\t\tif self.image is not None:\n",
    "\t\t\tscreen.blit(self.image, self.rect)\n",
    "\t\tscreen.blit(self.text, self.text_rect)"
   ]
  },
  {
   "cell_type": "markdown",
   "metadata": {},
   "source": [
    "la methode checkForInput\n",
    "elle permet de vérifier si u utilisateur a cliqué sur un bouton"
   ]
  },
  {
   "cell_type": "code",
   "execution_count": null,
   "metadata": {},
   "outputs": [],
   "source": [
    "def checkForInput(self, position):\n",
    "\t\tif position[0] in range(self.rect.left, self.rect.right) and position[1] in range(self.rect.top, self.rect.bottom):\n",
    "\t\t\treturn True\n",
    "\t\treturn False"
   ]
  },
  {
   "cell_type": "markdown",
   "metadata": {},
   "source": [
    "la methode changeColor\n",
    "Elle permet de changer de couleur en réaction au clic de la souris"
   ]
  },
  {
   "cell_type": "code",
   "execution_count": null,
   "metadata": {},
   "outputs": [],
   "source": [
    "def changeColor(self, position):\n",
    "\t\tif position[0] in range(self.rect.left, self.rect.right) and position[1] in range(self.rect.top, self.rect.bottom):\n",
    "\t\t\tself.text = self.font.render(self.text_input, True, self.hovering_color)\n",
    "\t\telse:\n",
    "\t\t\tself.text = self.font.render(self.text_input, True, self.base_color)"
   ]
  },
  {
   "cell_type": "markdown",
   "metadata": {},
   "source": [
    "La fonction Play\n",
    "Il s'agit du main.py\n",
    "C'est grace à elle que le jeu se lance. Nous reviendrons dessus un peu plus bas"
   ]
  },
  {
   "cell_type": "markdown",
   "metadata": {},
   "source": [
    "La fonction aide\n",
    "C'est dans cette fonction que s'effectue l'affichage des régles du jeu.\n",
    "Une fois que t'utilisateur clique sur le bouton help, une fenetre différente du menu d'accueil s'ouvre et présente les régles pour etre mesure de jouer"
   ]
  },
  {
   "cell_type": "code",
   "execution_count": null,
   "metadata": {},
   "outputs": [],
   "source": [
    "def aide():\n",
    "    while True:\n",
    "        HELP_MOUSE_POS = pygame.mouse.get_pos()\n",
    "\n",
    "        fenetre.fill(\"white\")\n",
    "        titleFont  =  pygame.font.Font( 'image jeu/font.ttf' , 100 )\n",
    "       \n",
    "        texteRegles  =  pygame.font.Font( 'image jeu/font.ttf'  , 25 )\n",
    "\n",
    "        # zones cliquables\n",
    "        \n",
    "\n",
    "        #affichage à l'écran\n",
    "        fenetre.blit ( titleFont . render ( \"Règles\" , True , ( 0 , 0 , 0 )), ( 370, 30 ))\n",
    "        bouton_back = Button(image=None, pos=(640, 540), \n",
    "                            text_input=\"BACK\", font=get_font(75), base_color=\"Black\", hovering_color=\"Green\")\n",
    "        fenetre.blit ( texteRegles . render ( 'Le ping pong est une sorte de tennis de table ' , True , ( 0 , 0 , 0 )), ( 20 , 150  ))\n",
    "        fenetre.blit ( texteRegles . render ( \"en mouvement constant. L'un gagne si l 'autre ne  \", True , ( 0 , 0 , 0 )), ( 20, 200 ))\n",
    "        fenetre.blit ( texteRegles . render ( \"parvient pas à intercepter la balle de l'autre\" , True , ( 0 , 0 , 0 )), ( 20 , 250 ))\n",
    "        fenetre.blit ( texteRegles . render ( 'ici les déplacements sont controlés par les mou' , True , ( 0 , 0 , 0 )), ( 20 , 300 ))\n",
    "        fenetre.blit ( texteRegles . render ( 'vements du bras. si le joueur souhaite se déplacer' , True , ( 0 , 0 , 0 )), ( 20 , 350 ))\n",
    "        fenetre.blit ( texteRegles . render ( \"vers le haut, il souleve la main et s'il souhaite se\"  , True , ( 0 , 0 , 0 )), ( 20 , 400 ))\n",
    "        fenetre.blit ( texteRegles . render ( 'deplacer vers le bas, il baisse sa main' , True , ( 0 , 0 , 0 )), ( 20 , 450 ))\n",
    "    \n",
    "\n",
    "        \n",
    "\n",
    "        bouton_back.changeColor(HELP_MOUSE_POS)\n",
    "        bouton_back.update(fenetre)\n",
    "\n",
    "        for event in pygame.event.get():\n",
    "            if event.type == pygame.QUIT:\n",
    "                pygame.quit()\n",
    "                sys.exit()\n",
    "            if event.type == pygame.MOUSEBUTTONDOWN:\n",
    "                if bouton_back.checkForInput(HELP_MOUSE_POS):\n",
    "                  main_menu()\n",
    "\n",
    "        pygame.display.update()    \n"
   ]
  },
  {
   "cell_type": "markdown",
   "metadata": {},
   "source": [
    "la fonction main menu()\n",
    "C'est dans cette fonction qu'on crée nos objets boutons "
   ]
  },
  {
   "cell_type": "code",
   "execution_count": null,
   "metadata": {},
   "outputs": [],
   "source": [
    "def main_menu():\n",
    "    while True:\n",
    "        fenetre.blit(background, (0, 0))\n",
    "\n",
    "        MENU_MOUSE_POS = pygame.mouse.get_pos()\n",
    "\n",
    "        MENU_TEXT = get_font(100).render(\"MAIN MENU\", True, (182, 143, 64))\n",
    "        MENU_RECT = MENU_TEXT.get_rect(center=(640, 100))\n",
    "\n",
    "        Bouton_play = Button(image=pygame.image.load(\"image jeu/Play Rect.png\"), pos=(640, 250), \n",
    "                            text_input=\"PLAY\", font=get_font(75), base_color=(215,252,212), hovering_color=\"White\")\n",
    "        Bouton_help = Button(image=pygame.image.load(\"image jeu/aide Rect.png\"), pos=(640, 400), \n",
    "                            text_input=\"HELP\", font=get_font(75), base_color=(215,252,212), hovering_color=\"White\")\n",
    "        Bouton_score = Button(image=pygame.image.load(\"image jeu/aide Rect.png\"), pos=(640, 550), \n",
    "                            text_input=\"SCORE\", font=get_font(75), base_color=(215,252,212), hovering_color=\"White\")                   \n",
    "        Bouton_quitter = Button(image=pygame.image.load(\"image jeu/Quit Rect.png\"), pos=(640, 700), \n",
    "                            text_input=\"QUIT\", font=get_font(75), base_color=(215,252,212), hovering_color=\"White\")\n",
    "\n",
    "        fenetre.blit(MENU_TEXT, MENU_RECT)\n",
    "\n",
    "        for button in [Bouton_play,Bouton_help ,Bouton_score,Bouton_quitter ]:\n",
    "            button.changeColor(MENU_MOUSE_POS)\n",
    "            button.update(fenetre)"
   ]
  },
  {
   "cell_type": "markdown",
   "metadata": {},
   "source": [
    "Dans la suite, on aura besoin de connaire la position du curseur de la souris pour detrrminer l'action qu'il faut effectuer\n",
    "Nous allons donc utiliser la fonction get_pos() pour cela"
   ]
  },
  {
   "cell_type": "code",
   "execution_count": null,
   "metadata": {},
   "outputs": [],
   "source": [
    "MENU_MOUSE_POS = pygame.mouse.get_pos()"
   ]
  },
  {
   "cell_type": "markdown",
   "metadata": {},
   "source": [
    "Pour le moment, nos différents élements son chargés mais n'apparaissent pas sur l'écran et ce pour plusieurs raisons. Premiérement il faut definir les différents evenements qui vont s'effectuer sur la fenetre notamment le clic de la souris sur un bouton ou encore la fermeture de l'écran.\n",
    "Acet effet nous alllons récupérer les différents événements de la fenetre grâce à la fonction pygame.event.get() et determiner ce qu'il faut faire en fonction du type d'action"
   ]
  },
  {
   "cell_type": "code",
   "execution_count": null,
   "metadata": {},
   "outputs": [],
   "source": [
    "for event in pygame.event.get():\n",
    "            if event.type == pygame.QUIT:\n",
    "                pygame.quit()\n",
    "                sys.exit()\n",
    "            if event.type == pygame.MOUSEBUTTONDOWN:\n",
    "                if Bouton_play.checkForInput(MENU_MOUSE_POS):\n",
    "                    play()\n",
    "                if Bouton_help.checkForInput(MENU_MOUSE_POS):\n",
    "                    aide()\n",
    "                if Bouton_score.checkForInput(MENU_MOUSE_POS):\n",
    "                    score()\n",
    "                if Bouton_quitter.checkForInput(MENU_MOUSE_POS):\n",
    "                    pygame.quit()\n",
    "                    sys.exit()"
   ]
  },
  {
   "cell_type": "markdown",
   "metadata": {},
   "source": [
    "Aprés l'execution du code, on constate que les différents élements crées ne s'affichent toujours pas. Il faut donc effectuer une mise à jour afin de rafraichir ces elements au niveau de l'ecran."
   ]
  },
  {
   "cell_type": "code",
   "execution_count": null,
   "metadata": {},
   "outputs": [],
   "source": [
    "pygame.display.update()"
   ]
  },
  {
   "cell_type": "markdown",
   "metadata": {},
   "source": [
    "Le fichier main\n",
    "Il contient le jeu proprement dit. De l'affichage des différents joueurs à l'execution du jeu en lui-même. \n",
    "Il contient les différentes classes qui constituent les éléments graphiques et les fonctionalités propores au jeu, les événements et les conditions d'executions du jeu. \n"
   ]
  },
  {
   "cell_type": "markdown",
   "metadata": {},
   "source": [
    "La classe Paddle\n",
    "Elle représente la classe à partir de laquelle on va instancier notre objet joueur(le joueur utilisateur) \n",
    "Elle  possede trois attributs (la hauteur, la largeur et la position en x sur la fenetre)\n",
    "Rect permet de geberer une surface rectangulaire qui va me permettre de déplacer mon joeur"
   ]
  },
  {
   "cell_type": "code",
   "execution_count": null,
   "metadata": {},
   "outputs": [],
   "source": [
    "class Paddle:\n",
    "    def __init__(self, x, w, h):\n",
    "        self.w = w\n",
    "        self.h = h\n",
    "        self.x = x\n",
    "        self.y = window_height / 2\n",
    "        self.rect = pygame.Rect(self.x, self.y, self.w, self.h)"
   ]
  },
  {
   "cell_type": "markdown",
   "metadata": {},
   "source": [
    "Sa methode principale est la methode move lui permettant d'effectuer les mouvements verticaux via la camera"
   ]
  },
  {
   "cell_type": "code",
   "execution_count": null,
   "metadata": {},
   "outputs": [],
   "source": [
    "def detectMove(self, cy):\n",
    "        self.rect.y = int(cy)\n",
    "        self.draw()"
   ]
  },
  {
   "cell_type": "markdown",
   "metadata": {},
   "source": [
    "le joueur a bien besoin d'un adversaire!!\n",
    "De ce fait nous avons crée une seconde classe AutoPaddle et donc notre joueur ordinateur sera une instance de cette classe\n",
    "En plus des attributs d'un joueur normal, elle va prendre les attributs ball et vitesse\n",
    "pourquoi direz-vous\n",
    "je vous l'explique plus bas"
   ]
  },
  {
   "cell_type": "code",
   "execution_count": null,
   "metadata": {},
   "outputs": [],
   "source": [
    "class AutoPaddle(Paddle):\n",
    "    def __init__(self, x, w, h, speed, ball):\n",
    "        super().__init__(x, w, h)\n",
    "        self.speed = speed\n",
    "        self.ball = ball"
   ]
  },
  {
   "cell_type": "markdown",
   "metadata": {},
   "source": [
    "Comme méthode, notre joueur ordi doit etre capable de se déplacer.\n",
    "Il se pose donc le probleme du comment déplacer ce joueur ordinateur. Dans notre cas, il va se copier sur les mouvements de la balle\n",
    "C'est pour cette raison qu'elle prend en argument la vitesse et les mouvements de la table"
   ]
  },
  {
   "cell_type": "code",
   "execution_count": null,
   "metadata": {},
   "outputs": [],
   "source": [
    "def move(self):\n",
    "        if self.ball.dir_x == 1:\n",
    "            if self.rect.y + self.rect.h/2 < self.ball.rect.bottom:\n",
    "                self.rect.y += self.speed\n",
    "            if self.rect.y + self.rect.h/2 > self.ball.rect.bottom:\n",
    "                self.rect.y -= self.speed"
   ]
  },
  {
   "cell_type": "markdown",
   "metadata": {},
   "source": [
    "La classe game\n",
    "C'est dans cette classe qu'on va charger notre jeu\n",
    "Premiérement on va créer les différents objets de notre jeu dans le def _init_"
   ]
  },
  {
   "cell_type": "code",
   "execution_count": null,
   "metadata": {},
   "outputs": [],
   "source": [
    "class Game:\n",
    "    def __init__(self, line_thickness=10, speed=5):\n",
    "        self.line_thickness = line_thickness\n",
    "        self.speed = speed\n",
    "        ball_x = window_width / 2\n",
    "        ball_y = window_height / 2\n",
    "        ball_w = self.line_thickness\n",
    "        ball_h = self.line_thickness\n",
    "        self.ball = Ball(ball_x, ball_y, ball_w, ball_h, self.speed)\n",
    "        self.paddles = {}\n",
    "        paddle_x = 20\n",
    "        paddle_w = self.line_thickness\n",
    "        paddle_h = 50\n",
    "        self.paddles['user'] = Paddle(paddle_x, paddle_w, paddle_h)\n",
    "        self.paddles['computer'] = AutoPaddle(window_width - paddle_x - 10, paddle_w, paddle_h, self.speed, self.ball)\n",
    "        self.score = ScoreBoard()"
   ]
  },
  {
   "cell_type": "markdown",
   "metadata": {},
   "source": [
    "Ensuite on va créer la methode qui lance le jeu, les differentes fonctionnalités et charge les évenements"
   ]
  },
  {
   "cell_type": "code",
   "execution_count": null,
   "metadata": {},
   "outputs": [],
   "source": [
    "def update(self):\n",
    "        self.draw_arena()\n",
    "        self.ball.draw()\n",
    "        self.paddles['user'].draw()\n",
    "        self.paddles['computer'].draw()\n",
    "        self.ball.move()\n",
    "        self.paddles['computer'].move()\n",
    "        if self.ball.hit_paddle_user(self.paddles['user']):\n",
    "            self.ball.bounce('x')\n",
    "            self.score.score += 1\n",
    "        self.score.display(self.score.score)\n",
    "        if self.ball.hit_paddle_computer(self.paddles['computer']):\n",
    "            self.ball.bounce('x')"
   ]
  },
  {
   "cell_type": "markdown",
   "metadata": {},
   "source": [
    "\n",
    "### Tests fonctionnels\n",
    "\n",
    "On a essayer de definir la méthode de rebond de la balle\n",
    "Dans un premier temps on a supposé que la balle rebondissait selon l'axe x mais suite à l'execution on a constaté que la balle traversait la fenetre de jeu\n",
    "C'est pour cette raison qu'on a décidé de faire le rebond en fonction de y\n",
    "D'ou le code;"
   ]
  },
  {
   "cell_type": "code",
   "execution_count": null,
   "metadata": {},
   "outputs": [],
   "source": [
    "if self.ball.hit_paddle_user(self.paddles['user']):\n",
    "            self.ball.bounce('y')\n",
    "            self.score.score += 1\n",
    "            self.score.display(self.score.score)\n",
    "if self.ball.hit_paddle_computer(self.paddles['computer']):\n",
    "            self.ball.bounce('y')"
   ]
  },
  {
   "cell_type": "markdown",
   "metadata": {},
   "source": [
    "####Fonction Pause\n",
    "\n",
    "Nous avons testé différents bouts de code pour faire la fonction pause, mais à chaque fois ils divisaient par 2 la frame rate\n",
    "donc nous ne l'avons pas laissé:"
   ]
  },
  {
   "cell_type": "code",
   "execution_count": null,
   "metadata": {},
   "outputs": [],
   "source": [
    "        if cv.waitKey(1) & 0xFF == ord('q'):    #waitKey(1) & 0xFF is a bitwise operation to only keep the last 8 bits and compare it to ord('q')\n",
    "            break\n",
    "\n",
    "        '''\n",
    "        k = cv.waitKey(40)\n",
    "\n",
    "        if k == ord(' '):\n",
    "            paused = not paused\n",
    "        '''\n",
    "\n",
    "        for event in pygame.event.get():\n",
    "            if event.type == pygame.QUIT:\n",
    "                pygame.quit()\n",
    "                sys.exit()\n",
    "              \n",
    "            #if event.type == pygame.KEYUP:\n",
    "                if event.key == pygame.K_SPACE:\n",
    "                    paused = not paused\n",
    "        \n",
    "\n",
    "        '''\n",
    "        if cv.waitKey(1) & 0x70 == ord('p'):    #waitKey(1) & 0xFF is a bitwise operation to only keep the last 8 bits and compare it to ord('q')\n",
    "            paused = not paused\n",
    "        '''"
   ]
  },
  {
   "cell_type": "markdown",
   "metadata": {},
   "source": [
    "### Bilan collectif et individuel\n",
    "\n",
    "\n",
    "\n",
    "\n",
    "\n",
    "### Bibliographie (nos sources)\n",
    "- https://code.visualstudio.com/docs/sourcecontrol/overview\n",
    "- https://training.github.com/downloads/github-git-cheat-sheet.pdf\n",
    "- https://stackoverflow.com/questions/7974849/how-can-i-make-one-python-file-run-another\n",
    "- https://docplayer.fr/174641349-Introduction-a-pygame.html\n",
    "- https://www.youtube.com/watch?v=lA5MHT1PbIA \n",
    "- https://stackoverflow.com/questions/35372700/whats-0xff-for-in-cv2-waitkey1 \n",
    "\n"
   ]
  }
 ],
 "metadata": {
  "kernelspec": {
   "display_name": "Python 3.10.8 64-bit",
   "language": "python",
   "name": "python3"
  },
  "language_info": {
   "codemirror_mode": {
    "name": "ipython",
    "version": 3
   },
   "file_extension": ".py",
   "mimetype": "text/x-python",
   "name": "python",
   "nbconvert_exporter": "python",
   "pygments_lexer": "ipython3",
   "version": "3.10.8"
  },
  "orig_nbformat": 4,
  "vscode": {
   "interpreter": {
    "hash": "aee8b7b246df8f9039afb4144a1f6fd8d2ca17a180786b69acc140d282b71a49"
   }
  }
 },
 "nbformat": 4,
 "nbformat_minor": 2
}
