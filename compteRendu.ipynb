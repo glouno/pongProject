{
 "cells": [
  {
   "cell_type": "code",
   "execution_count": 3,
   "metadata": {},
   "outputs": [],
   "source": [
    "#Import requirements:\n",
    "import cv2 as cv\n"
   ]
  },
  {
   "cell_type": "markdown",
   "metadata": {},
   "source": [
    "# The Pong Project\n",
    "Christian Kuate, Aissata Sylla, Raphaela NKOUDOU, Paul Béglin\n",
    "\n",
    "### Présentation synthétique du projet\n",
    "\n",
    "\n",
    "### Répartition des tâches\n",
    "Nous avons décidé de séparer le projet en 2 parties: \n",
    "1. le jeu (avec comme controles les \"UP ARROW\" \"DOWN ARROW\" normaux, (que Christian et Aissata auraient du faire)\n",
    "2. les contrôles fait par une main, grâce à OpenCV : fait par Paul \n",
    "3. le Menu fait par Raphaela\n",
    "\n",
    "Puis nous allons intégrer ces 3 parties ensemble\n",
    "\n",
    "### Initialisation\n",
    "#### Git & GitHub\n",
    "Afin d'apprendre à utiliser git (un des outils les plus importants dans notre carrière de développeurs) nous allons tout faire sur GitHub en essayant d'adopter les bonnes pratiques, comme créer une branche pour chaque feature avant de merge avec main.\n",
    "\n",
    "#### Environnement Virtuel Python\n",
    "De plus, à cause de problèmes d'environement qui empêchait de faire fonctionner OpenCV, nous avons créé des environnements virtuels afin de séparer la version Python qu'utilise le système et la version dont nous avons besoin avec toutes nos dépendences. On a notamment utilisé Conda.\n",
    "\n",
    "...\n",
    "\n",
    "\n",
    "### Tests fonctionnels\n",
    "\n",
    "OpenCV & cvZone pour les contrôles du jeu\n",
    "J'ai décidé d'utiliser une bibliothèque additionelle qui est basée sur OpenCV, notamment car elle traite le HandTracking de manière très efficace ce qui permet au code d'être plus simple et lisible, mais aussi de s'éxecuter plus rapidement. "
   ]
  },
  {
   "cell_type": "code",
   "execution_count": null,
   "metadata": {},
   "outputs": [],
   "source": [
    "#Premier tests caméra avec opencv et cvzone Hand Tracking\n",
    "#Attention, dans Jupyternotebooks on ne peut pas sortir de GUI, donc afin d'avoir quelque chose qui s'affiche inline\n",
    "#j'ai changé le code pour utiliser matplotlibe et avoir chaque image qui s'affiche inline... \n",
    "#MAIS il faut arrêter le processus rapidement, sinon vous allez avoir pleins d'images \n",
    "\n",
    "import cv2 as cv\n",
    "from cvzone.HandTrackingModule import HandDetector\n",
    "from matplotlib import pyplot as plt\n",
    "\n",
    "liveVideo = cv.VideoCapture(0)\n",
    "handDetector = HandDetector(detectionCon = 0.8)\n",
    "\n",
    "while True:\n",
    "    ret, frame = liveVideo.read()\n",
    "\n",
    "    #Show the image with matplotlib\n",
    "    plt.imshow(frame)\n",
    "    plt.show()\n",
    "    #cv.imshow('frame', frame)\n",
    "\n",
    "    if cv.waitKey(1) & 0xFF == ord('q'):    #waitKey(1) & 0xFF is a bitwise operation to only keep the last 8 bits and compare it to ord('q')\n",
    "        break\n",
    "\n",
    "# After the loop release the cap object\n",
    "liveVideo.release()\n",
    "# Destroy all the windows\n",
    "cv.destroyAllWindows()"
   ]
  },
  {
   "cell_type": "markdown",
   "metadata": {},
   "source": [
    "On utilise la point de l'index comme réference pour le mouvement (le point numéro 8 de la main sur OpenCV)\n",
    "c'est pourquoi on appelle: \n",
    "\n",
    "```yCoordinate = lmList1[8][1:2]```\n",
    "\n",
    "Pour avoir ses coordonnées"
   ]
  },
  {
   "cell_type": "code",
   "execution_count": null,
   "metadata": {},
   "outputs": [],
   "source": [
    "while True:\n",
    "    ret, frame = liveVideo.read()\n",
    "    frame = cv.flip(frame, 1)\n",
    "    hands, frame = handDetector.findHands(frame, flipType=False)\n",
    "#for each hand we'Ll have info Like Hand--›dict{lmList,boundinqboundary, img)\n",
    "    if hands:\n",
    "        hand1=hands[0]                          #gives us first hand\n",
    "        lmList1=hand1[\"lmList\"]                 #List of 21 Landmarks\n",
    "        bbox1=hand1[\"bbox\"]                     #x,y,w,h of bounding box\n",
    "        centerPoint1=hand1[ \"center\" ]          #center of the hand cx, cy\n",
    "        handType1=hand1[\"type\"]                 #Left or right\n",
    "        finger1=handDetector.fingersUp(hand1)\n",
    "        \n",
    "        #needs something to find the distance / x,y positions \n",
    "        #length, info, frame=handDetector.findDistance(lmList1[8], lmList1[12])\n",
    "        yCoordinate = lmList1[8][1:2]       \n",
    "        #yCoordinate = tuple(yCoordinate) #careful change data type to tuple with tuple() if doing a circle bounding box\n",
    "        #cv2.circle() ...\n",
    "        print(yCoordinate)"
   ]
  },
  {
   "cell_type": "markdown",
   "metadata": {},
   "source": [
    "LA CRÉATION DE LA PAGE D'ACCEUIL\n",
    "Pour réaliser la page d'accueil nous avons utilisé la bibliothéque pygame en utilisant le concept de multi-fenetres. A cet effet nous avons donc créer cinq fonctions principales qui constituent les quatres boutons de l'interface et la fonction main qui va se charger d'afficher ces boutons à l'écran.\n",
    "le principe est simple, le clic d'un bouton correspond à l'appel de la fonction\n",
    "Egalement, pour generer ces boutons à l'ecran, nous avons opté pour la création d'une classe BUTTON. Ce qui rend la géneration des boutons facile et non redondante."
   ]
  },
  {
   "cell_type": "markdown",
   "metadata": {},
   "source": [
    "La classe BUTTON:\n",
    "    le def _init_\n",
    "    Elle posséde un constructeur qui va initialiser les différents attributs des boutons(image, position du bouton, text, la police, la couleur, et la couleur secondaire) et trois méthodes"
   ]
  },
  {
   "cell_type": "code",
   "execution_count": null,
   "metadata": {},
   "outputs": [],
   "source": [
    "class Button():\n",
    "\tdef __init__(self, image, pos, text_input, font, base_color, hovering_color):\n",
    "\t\tself.image = image\n",
    "\t\tself.x_pos = pos[0]\n",
    "\t\tself.y_pos = pos[1]\n",
    "\t\tself.font = font\n",
    "\t\tself.base_color, self.hovering_color = base_color, hovering_color\n",
    "\t\tself.text_input = text_input\n",
    "\t\tself.text = self.font.render(self.text_input, True, self.base_color)\n",
    "\t\tif self.image is None:\n",
    "\t\t\tself.image = self.text\n",
    "\t\tself.rect = self.image.get_rect(center=(self.x_pos, self.y_pos))\n",
    "\t\tself.text_rect = self.text.get_rect(center=(self.x_pos, self.y_pos))"
   ]
  },
  {
   "cell_type": "markdown",
   "metadata": {},
   "source": [
    "    la methode update\n",
    "    elle permet d'afficher le bouton à l'ecran d'accueil une fois qu'elle est appelée"
   ]
  },
  {
   "cell_type": "code",
   "execution_count": null,
   "metadata": {},
   "outputs": [],
   "source": [
    "def update(self, screen):\n",
    "\t\tif self.image is not None:\n",
    "\t\t\tscreen.blit(self.image, self.rect)\n",
    "\t\tscreen.blit(self.text, self.text_rect)"
   ]
  },
  {
   "cell_type": "markdown",
   "metadata": {},
   "source": [
    "la methode checkForInput\n",
    "elle permet de vérifier si u utilisateur a cliqué sur un bouton"
   ]
  },
  {
   "cell_type": "code",
   "execution_count": null,
   "metadata": {},
   "outputs": [],
   "source": [
    "def checkForInput(self, position):\n",
    "\t\tif position[0] in range(self.rect.left, self.rect.right) and position[1] in range(self.rect.top, self.rect.bottom):\n",
    "\t\t\treturn True\n",
    "\t\treturn False"
   ]
  },
  {
   "cell_type": "markdown",
   "metadata": {},
   "source": [
    "la methode changeColor\n",
    "Elle permet de changer de couleur en réaction au clic de la souris"
   ]
  },
  {
   "cell_type": "code",
   "execution_count": null,
   "metadata": {},
   "outputs": [],
   "source": [
    "def changeColor(self, position):\n",
    "\t\tif position[0] in range(self.rect.left, self.rect.right) and position[1] in range(self.rect.top, self.rect.bottom):\n",
    "\t\t\tself.text = self.font.render(self.text_input, True, self.hovering_color)\n",
    "\t\telse:\n",
    "\t\t\tself.text = self.font.render(self.text_input, True, self.base_color)"
   ]
  },
  {
   "cell_type": "markdown",
   "metadata": {},
   "source": [
    "La fonction Play\n",
    "Il s'agit du main.py\n",
    "C'est grace à elle que le jeu se lance. Nous reviendrons dessus un peu plus bas"
   ]
  },
  {
   "cell_type": "markdown",
   "metadata": {},
   "source": [
    "La fonction aide\n",
    "C'est dans cette fonction que s'effectue l'affichage des régles du jeu.\n",
    "Une fois que t'utilisateur clique sur le bouton help, une fenetre différente du menu d'accueil s'ouvre et présente les régles pour etre mesure de jouer"
   ]
  },
  {
   "cell_type": "code",
   "execution_count": null,
   "metadata": {},
   "outputs": [],
   "source": [
    "def aide():\n",
    "    while True:\n",
    "        HELP_MOUSE_POS = pygame.mouse.get_pos()\n",
    "\n",
    "        fenetre.fill(\"white\")\n",
    "        titleFont  =  pygame.font.Font( 'image jeu/font.ttf' , 100 )\n",
    "       \n",
    "        texteRegles  =  pygame.font.Font( 'image jeu/font.ttf'  , 25 )\n",
    "\n",
    "        # zones cliquables\n",
    "        \n",
    "\n",
    "        #affichage à l'écran\n",
    "        fenetre.blit ( titleFont . render ( \"Règles\" , True , ( 0 , 0 , 0 )), ( 370, 30 ))\n",
    "        bouton_back = Button(image=None, pos=(640, 540), \n",
    "                            text_input=\"BACK\", font=get_font(75), base_color=\"Black\", hovering_color=\"Green\")\n",
    "        fenetre.blit ( texteRegles . render ( 'Le ping pong est une sorte de tennis de table ' , True , ( 0 , 0 , 0 )), ( 20 , 150  ))\n",
    "        fenetre.blit ( texteRegles . render ( \"en mouvement constant. L'un gagne si l 'autre ne  \", True , ( 0 , 0 , 0 )), ( 20, 200 ))\n",
    "        fenetre.blit ( texteRegles . render ( \"parvient pas à intercepter la balle de l'autre\" , True , ( 0 , 0 , 0 )), ( 20 , 250 ))\n",
    "        fenetre.blit ( texteRegles . render ( 'ici les déplacements sont controlés par les mou' , True , ( 0 , 0 , 0 )), ( 20 , 300 ))\n",
    "        fenetre.blit ( texteRegles . render ( 'vements du bras. si le joueur souhaite se déplacer' , True , ( 0 , 0 , 0 )), ( 20 , 350 ))\n",
    "        fenetre.blit ( texteRegles . render ( \"vers le haut, il souleve la main et s'il souhaite se\"  , True , ( 0 , 0 , 0 )), ( 20 , 400 ))\n",
    "        fenetre.blit ( texteRegles . render ( 'deplacer vers le bas, il baisse sa main' , True , ( 0 , 0 , 0 )), ( 20 , 450 ))\n",
    "    \n",
    "\n",
    "        \n",
    "\n",
    "        bouton_back.changeColor(HELP_MOUSE_POS)\n",
    "        bouton_back.update(fenetre)\n",
    "\n",
    "        for event in pygame.event.get():\n",
    "            if event.type == pygame.QUIT:\n",
    "                pygame.quit()\n",
    "                sys.exit()\n",
    "            if event.type == pygame.MOUSEBUTTONDOWN:\n",
    "                if bouton_back.checkForInput(HELP_MOUSE_POS):\n",
    "                  main_menu()\n",
    "\n",
    "        pygame.display.update()    \n"
   ]
  },
  {
   "cell_type": "markdown",
   "metadata": {},
   "source": [
    "## Menu & Jeu\n",
    "\n",
    "Nous avons commencé en séparant les fonctions et classes dans différents fichiers, mais par manque d'expertise, nous avons finalement tout regroupé dans le même fichier main, avec comme seule séparation le fichier menu.\n",
    "\n",
    "Les autres fichiers sont laissés là si vous voulez voir notre cheminement.\n",
    "\n",
    "Il y a plein de code inutile, même à l'intérieur des fichiers menu et main. Notamment car nous avons été plusieurs à programmer et que nous n'avons pas assez bien combiné ensemble le travail.\n",
    "\n",
    "En intégrant le jeu dans le menu après avoir cliqué sur play, la fenêtre ne se resize / scale pas correctement.\n"
   ]
  },
  {
   "cell_type": "markdown",
   "metadata": {},
   "source": [
    "### Bilan collectif et individuel\n",
    "\n",
    "\n",
    "\n",
    "\n",
    "\n",
    "### Bibliographie (nos sources)\n",
    "- https://code.visualstudio.com/docs/sourcecontrol/overview\n",
    "- https://training.github.com/downloads/github-git-cheat-sheet.pdf\n",
    "- https://stackoverflow.com/questions/7974849/how-can-i-make-one-python-file-run-another\n",
    "- https://docplayer.fr/174641349-Introduction-a-pygame.html\n",
    "- https://www.youtube.com/watch?v=lA5MHT1PbIA \n",
    "- https://stackoverflow.com/questions/35372700/whats-0xff-for-in-cv2-waitkey1 \n",
    "\n"
   ]
  }
 ],
 "metadata": {
  "kernelspec": {
   "display_name": "Python 3.10.8 64-bit",
   "language": "python",
   "name": "python3"
  },
  "language_info": {
   "codemirror_mode": {
    "name": "ipython",
    "version": 3
   },
   "file_extension": ".py",
   "mimetype": "text/x-python",
   "name": "python",
   "nbconvert_exporter": "python",
   "pygments_lexer": "ipython3",
   "version": "3.10.8"
  },
  "orig_nbformat": 4,
  "vscode": {
   "interpreter": {
    "hash": "aee8b7b246df8f9039afb4144a1f6fd8d2ca17a180786b69acc140d282b71a49"
   }
  }
 },
 "nbformat": 4,
 "nbformat_minor": 2
}
